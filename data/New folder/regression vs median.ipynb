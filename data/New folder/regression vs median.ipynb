{
 "cells": [
  {
   "cell_type": "code",
   "execution_count": 3,
   "id": "bcad7e24-e385-4c6f-b8f3-006675f83687",
   "metadata": {},
   "outputs": [
    {
     "name": "stderr",
     "output_type": "stream",
     "text": [
      "C:\\Users\\HP\\AppData\\Local\\Temp\\ipykernel_15644\\693736998.py:9: DtypeWarning: Columns (15,26,27,28,29) have mixed types. Specify dtype option on import or set low_memory=False.\n",
      "  df = pd.read_csv(\"merged_prices.csv\")\n"
     ]
    },
    {
     "name": "stdout",
     "output_type": "stream",
     "text": [
      "Regression-based imputation completed. Missing prices filled.\n"
     ]
    }
   ],
   "source": [
    "import pandas as pd\n",
    "import numpy as np\n",
    "import re\n",
    "from sklearn.ensemble import RandomForestRegressor\n",
    "from sklearn.model_selection import train_test_split\n",
    "from sklearn.preprocessing import LabelEncoder\n",
    "\n",
    "# Load dataset\n",
    "df = pd.read_csv(\"merged_prices.csv\")\n",
    "\n",
    "# Function to extract numeric price from strings\n",
    "def extract_price(price_str):\n",
    "    if pd.isnull(price_str):\n",
    "        return np.nan  # Keep NaN values unchanged\n",
    "    price_numbers = re.findall(r\"\\d+\\.\\d+\", str(price_str))  # Extract numbers with decimal points\n",
    "    return float(price_numbers[-1]) if price_numbers else np.nan  # Take the last price if multiple\n",
    "\n",
    "# Clean the price column\n",
    "df[\"price\"] = df[\"price\"].apply(extract_price)\n",
    "\n",
    "# Identify missing values in price column\n",
    "missing_price_mask = df[\"price\"].isnull()\n",
    "\n",
    "# Select features that could help predict price\n",
    "features = [\"material_type\", \"material_subtype\", \"manufacturer\", \"procedure_name\", \"specialty\"]\n",
    "\n",
    "# Encode categorical features\n",
    "label_encoders = {}\n",
    "for col in features:\n",
    "    le = LabelEncoder()\n",
    "    df[col] = df[col].astype(str)  # Convert to string before encoding\n",
    "    df[col] = le.fit_transform(df[col])\n",
    "    label_encoders[col] = le\n",
    "\n",
    "# Create training data (only rows with known price)\n",
    "train_data = df[~missing_price_mask]\n",
    "X_train = train_data[features]\n",
    "y_train = train_data[\"price\"]\n",
    "\n",
    "# Create test data (only rows with missing price)\n",
    "test_data = df[missing_price_mask]\n",
    "X_test = test_data[features]\n",
    "\n",
    "# Train a regression model to predict price\n",
    "model = RandomForestRegressor(n_estimators=100, random_state=42)\n",
    "model.fit(X_train, y_train)\n",
    "\n",
    "# Predict missing prices\n",
    "predicted_prices = model.predict(X_test)\n",
    "\n",
    "# Fill missing prices in the dataset\n",
    "df.loc[missing_price_mask, \"price\"] = predicted_prices\n",
    "\n",
    "# Save the updated dataset\n",
    "df.to_csv(\"dataset_imputed.csv\", index=False)\n",
    "\n",
    "print(\"Regression-based imputation completed. Missing prices filled.\")\n"
   ]
  },
  {
   "cell_type": "code",
   "execution_count": 6,
   "id": "155d92ff-990f-40dd-9483-c9cd8e8d8c80",
   "metadata": {},
   "outputs": [
    {
     "name": "stderr",
     "output_type": "stream",
     "text": [
      "C:\\Users\\HP\\AppData\\Local\\Temp\\ipykernel_15644\\1134259581.py:6: DtypeWarning: Columns (15,26,27,28,29) have mixed types. Specify dtype option on import or set low_memory=False.\n",
      "  df = pd.read_csv(\"merged_prices.csv\")\n",
      "C:\\Users\\HP\\AppData\\Local\\Temp\\ipykernel_15644\\1134259581.py:22: FutureWarning: A value is trying to be set on a copy of a DataFrame or Series through chained assignment using an inplace method.\n",
      "The behavior will change in pandas 3.0. This inplace method will never work because the intermediate object on which we are setting values always behaves as a copy.\n",
      "\n",
      "For example, when doing 'df[col].method(value, inplace=True)', try using 'df.method({col: value}, inplace=True)' or df[col] = df[col].method(value) instead, to perform the operation inplace on the original object.\n",
      "\n",
      "\n",
      "  df[\"price\"].fillna(median_price, inplace=True)\n"
     ]
    },
    {
     "name": "stdout",
     "output_type": "stream",
     "text": [
      "Median imputation completed. Missing prices filled with median value: 26.49\n"
     ]
    }
   ],
   "source": [
    "import pandas as pd\n",
    "import numpy as np\n",
    "import re\n",
    "\n",
    "# Load dataset\n",
    "df = pd.read_csv(\"merged_prices.csv\")\n",
    "\n",
    "# Function to extract numeric price from strings\n",
    "def extract_price(price_str):\n",
    "    if pd.isnull(price_str):\n",
    "        return np.nan  # Keep NaN values unchanged\n",
    "    price_numbers = re.findall(r\"\\d+\\.\\d+\", str(price_str))  # Extract numbers with decimal points\n",
    "    return float(price_numbers[-1]) if price_numbers else np.nan  # Take the last price if multiple\n",
    "\n",
    "# Clean the price column\n",
    "df[\"price\"] = df[\"price\"].apply(extract_price)\n",
    "\n",
    "# Compute the median price (ignoring NaN values)\n",
    "median_price = df[\"price\"].median()\n",
    "\n",
    "# Fill missing prices with the median price\n",
    "df[\"price\"].fillna(median_price, inplace=True)\n",
    "\n",
    "# Save the updated dataset\n",
    "df.to_csv(\"dataset_median_imputed.csv\", index=False)\n",
    "\n",
    "print(f\"Median imputation completed. Missing prices filled with median value: {median_price:.2f}\")\n"
   ]
  },
  {
   "cell_type": "code",
   "execution_count": 8,
   "id": "b7906457-ac72-4c95-8719-8fbb598bade7",
   "metadata": {},
   "outputs": [
    {
     "name": "stderr",
     "output_type": "stream",
     "text": [
      "C:\\Users\\HP\\AppData\\Local\\Temp\\ipykernel_15644\\3988244982.py:10: DtypeWarning: Columns (15,26,27,28,29) have mixed types. Specify dtype option on import or set low_memory=False.\n",
      "  df = pd.read_csv(\"merged_prices.csv\")\n"
     ]
    },
    {
     "name": "stdout",
     "output_type": "stream",
     "text": [
      "===== IMPUTATION METHOD COMPARISON =====\n",
      "Median Imputation - MAE: 13.02, RMSE: 35.72\n",
      "Regression Imputation - MAE: 2.81, RMSE: 22.01\n",
      "✅ Regression imputation performed better.\n"
     ]
    }
   ],
   "source": [
    "import pandas as pd\n",
    "import numpy as np\n",
    "import re\n",
    "from sklearn.ensemble import RandomForestRegressor\n",
    "from sklearn.metrics import mean_absolute_error, mean_squared_error\n",
    "from sklearn.model_selection import train_test_split\n",
    "from sklearn.preprocessing import LabelEncoder\n",
    "\n",
    "# Load dataset\n",
    "df = pd.read_csv(\"merged_prices.csv\")\n",
    "\n",
    "# Function to extract numeric price from strings\n",
    "def extract_price(price_str):\n",
    "    if pd.isnull(price_str):\n",
    "        return np.nan  # Keep NaN values unchanged\n",
    "    price_numbers = re.findall(r\"\\d+\\.\\d+\", str(price_str))  # Extract numbers with decimal points\n",
    "    return float(price_numbers[-1]) if price_numbers else np.nan  # Take the last price if multiple\n",
    "\n",
    "# Clean the price column\n",
    "df[\"price\"] = df[\"price\"].apply(extract_price)\n",
    "\n",
    "# Drop rows where price is still NaN (if no valid numbers were extracted)\n",
    "df.dropna(subset=[\"price\"], inplace=True)\n",
    "\n",
    "# Create a test set by randomly removing 20% of known prices\n",
    "np.random.seed(42)\n",
    "missing_mask = np.random.rand(len(df)) < 0.2\n",
    "df_missing = df.copy()\n",
    "df_missing.loc[missing_mask, \"price\"] = np.nan  # Set these values as missing\n",
    "\n",
    "# Store actual prices for evaluation\n",
    "actual_prices = df.loc[missing_mask, \"price\"]\n",
    "\n",
    "# ---------- METHOD 1: MEDIAN IMPUTATION ----------\n",
    "median_price = df_missing[\"price\"].median()\n",
    "df_missing[\"price_median\"] = df_missing[\"price\"].fillna(median_price)\n",
    "\n",
    "# ---------- METHOD 2: REGRESSION-BASED IMPUTATION ----------\n",
    "# Select features that could help predict price\n",
    "features = [\"material_type\", \"material_subtype\",\"procedure_name\", \"specialty\"]\n",
    "\n",
    "# Encode categorical features\n",
    "label_encoders = {}\n",
    "for col in features:\n",
    "    le = LabelEncoder()\n",
    "    df_missing[col] = df_missing[col].astype(str)  # Convert to string before encoding\n",
    "    df_missing[col] = le.fit_transform(df_missing[col])\n",
    "    label_encoders[col] = le\n",
    "\n",
    "# Split data into train (non-missing) and test (missing)\n",
    "train_data = df_missing[~df_missing[\"price\"].isnull()]\n",
    "X_train = train_data[features]\n",
    "y_train = train_data[\"price\"]\n",
    "\n",
    "test_data = df_missing[df_missing[\"price\"].isnull()]\n",
    "X_test = test_data[features]\n",
    "\n",
    "# Train regression model\n",
    "model = RandomForestRegressor(n_estimators=100, random_state=42)\n",
    "model.fit(X_train, y_train)\n",
    "\n",
    "# Predict missing prices\n",
    "df_missing.loc[df_missing[\"price\"].isnull(), \"price_regression\"] = model.predict(X_test)\n",
    "\n",
    "# ---------- EVALUATION ----------\n",
    "# Extract imputed values for test set\n",
    "imputed_median = df_missing.loc[missing_mask, \"price_median\"]\n",
    "imputed_regression = df_missing.loc[missing_mask, \"price_regression\"]\n",
    "\n",
    "# Calculate evaluation metrics\n",
    "mae_median = mean_absolute_error(actual_prices, imputed_median)\n",
    "rmse_median = np.sqrt(mean_squared_error(actual_prices, imputed_median))\n",
    "\n",
    "mae_regression = mean_absolute_error(actual_prices, imputed_regression)\n",
    "rmse_regression = np.sqrt(mean_squared_error(actual_prices, imputed_regression))\n",
    "\n",
    "# Print results\n",
    "print(\"===== IMPUTATION METHOD COMPARISON =====\")\n",
    "print(f\"Median Imputation - MAE: {mae_median:.2f}, RMSE: {rmse_median:.2f}\")\n",
    "print(f\"Regression Imputation - MAE: {mae_regression:.2f}, RMSE: {rmse_regression:.2f}\")\n",
    "\n",
    "# Determine best method\n",
    "if mae_regression < mae_median:\n",
    "    print(\"✅ Regression imputation performed better.\")\n",
    "else:\n",
    "    print(\"✅ Median imputation performed better.\")\n"
   ]
  },
  {
   "cell_type": "code",
   "execution_count": null,
   "id": "48587c01-de42-49da-8473-e1fe5b964bdc",
   "metadata": {},
   "outputs": [],
   "source": []
  }
 ],
 "metadata": {
  "kernelspec": {
   "display_name": "Python [conda env:base] *",
   "language": "python",
   "name": "conda-base-py"
  },
  "language_info": {
   "codemirror_mode": {
    "name": "ipython",
    "version": 3
   },
   "file_extension": ".py",
   "mimetype": "text/x-python",
   "name": "python",
   "nbconvert_exporter": "python",
   "pygments_lexer": "ipython3",
   "version": "3.12.7"
  }
 },
 "nbformat": 4,
 "nbformat_minor": 5
}
