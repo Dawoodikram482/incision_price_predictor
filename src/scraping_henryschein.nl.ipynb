{
 "cells": [
  {
   "cell_type": "code",
   "execution_count": 8,
   "id": "9044d537-a0e1-40ee-9f1a-1c5c301619c1",
   "metadata": {
    "scrolled": true
   },
   "outputs": [
    {
     "name": "stdout",
     "output_type": "stream",
     "text": [
      "[]\n"
     ]
    }
   ],
   "source": [
    "import csv\n",
    "import time\n",
    "from selenium import webdriver\n",
    "from selenium.webdriver.chrome.service import Service\n",
    "from selenium.webdriver.common.by import By\n",
    "from selenium.webdriver.support.ui import WebDriverWait\n",
    "from selenium.webdriver.support import expected_conditions as EC\n",
    "from webdriver_manager.chrome import ChromeDriverManager\n",
    "\n",
    "# Function to clean and convert price\n",
    "def convert_price_to_float(price_str):\n",
    "    print(f\"Raw price string: {price_str}\")  # Debugging line\n",
    "    cleaned_price = price_str.replace('1 X €', '').strip().replace(',', '.')\n",
    "    try:\n",
    "        return float(cleaned_price)\n",
    "    except ValueError:\n",
    "        print(f\"Failed to convert price, returning unmodified: {price_str}\")  # Debugging\n",
    "        return price_str\n",
    "\n",
    "# Setup WebDriver\n",
    "options = webdriver.ChromeOptions()\n",
    "options.add_argument(\"--start-maximized\")\n",
    "driver = webdriver.Chrome(service=Service(ChromeDriverManager().install()), options=options)\n",
    "\n",
    "# Base URL\n",
    "base_url = \"https://www.henryschein.nl/nl-nl/medisch/c/browsesupplies\"\n",
    "driver.get(base_url)\n",
    "\n",
    "wait = WebDriverWait(driver, 10)\n",
    "\n",
    "# Extract categories\n",
    "category_elements = wait.until(EC.presence_of_all_elements_located((By.CSS_SELECTOR, \"ul.hs-categories li.item a\")))\n",
    "category_links = [cat.get_attribute(\"href\") for cat in category_elements]\n",
    "\n",
    "all_products = []\n",
    "\n",
    "# Loop through each category\n",
    "for category_link in category_links:\n",
    "    try:\n",
    "        driver.get(category_link)\n",
    "        time.sleep(2)\n",
    "\n",
    "        # Extract sub-category links if available\n",
    "        sub_category_elements = driver.find_elements(By.CSS_SELECTOR, \"ul.hs-categories li.item a\")\n",
    "        sub_category_links = [sub.get_attribute(\"href\") for sub in sub_category_elements] or [category_link]\n",
    "\n",
    "        for sub_category_link in sub_category_links:\n",
    "            driver.get(sub_category_link)\n",
    "            time.sleep(3)\n",
    "\n",
    "            product_elements = driver.find_elements(By.CSS_SELECTOR, \"li.product\")\n",
    "            \n",
    "            for product in product_elements:\n",
    "                try:\n",
    "                    product_name = product.find_element(By.CSS_SELECTOR, \".product-name a\").text.strip()\n",
    "                    price_elements = product.find_elements(By.CSS_SELECTOR, \".product-price.single-amount\")\n",
    "                    product_price = price_elements[0].text.strip() if price_elements else \"Price not available\"\n",
    "                    product_price_float = convert_price_to_float(product_price)\n",
    "                    \n",
    "                    all_products.append([product_name, product_price_float])\n",
    "                    print(f\"Extracted: {product_name}, {product_price_float}\")\n",
    "                except Exception as e:\n",
    "                    print(f\"Error extracting product details: {e}\")\n",
    "\n",
    "    except Exception as e:\n",
    "        print(f\"Error processing category {category_link}: {e}\")\n",
    "\n",
    "# Save to CSV\n",
    "try:\n",
    "    with open(\"materials_data.csv\", \"w\", newline=\"\", encoding=\"utf-8\") as file:\n",
    "        writer = csv.writer(file)\n",
    "        writer.writerow([\"material_name\", \"Price\"])\n",
    "        writer.writerows(all_products)\n",
    "    print(\"Scraping complete! Data saved.\")\n",
    "except Exception as e:\n",
    "    print(f\"Error writing CSV file: {e}\")\n",
    "\n",
    "# Close driver\n",
    "driver.quit()\n"
   ]
  },
  {
   "cell_type": "code",
   "execution_count": null,
   "id": "2f8f9b4f-9943-4879-87eb-9dc2c98d2c45",
   "metadata": {},
   "outputs": [],
   "source": []
  }
 ],
 "metadata": {
  "kernelspec": {
   "display_name": "Python [conda env:base] *",
   "language": "python",
   "name": "conda-base-py"
  },
  "language_info": {
   "codemirror_mode": {
    "name": "ipython",
    "version": 3
   },
   "file_extension": ".py",
   "mimetype": "text/x-python",
   "name": "python",
   "nbconvert_exporter": "python",
   "pygments_lexer": "ipython3",
   "version": "3.12.7"
  }
 },
 "nbformat": 4,
 "nbformat_minor": 5
}
