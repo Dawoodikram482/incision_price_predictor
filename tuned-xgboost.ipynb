{
 "cells": [
  {
   "cell_type": "code",
   "execution_count": 2,
   "id": "3330fc8c-81a5-4627-adbc-6259481cd881",
   "metadata": {},
   "outputs": [
    {
     "name": "stderr",
     "output_type": "stream",
     "text": [
<<<<<<< HEAD
<<<<<<< HEAD
      "C:\\Users\\HP\\AppData\\Local\\Temp\\ipykernel_13516\\2120911522.py:11: DtypeWarning: Columns (14) have mixed types. Specify dtype option on import or set low_memory=False.\n",
=======
      "C:\\Users\\HP\\AppData\\Local\\Temp\\ipykernel_29248\\3647235274.py:15: DtypeWarning: Columns (14) have mixed types. Specify dtype option on import or set low_memory=False.\n",
>>>>>>> 462af2a (api v3)
=======
      "C:\\Users\\HP\\AppData\\Local\\Temp\\ipykernel_13516\\2120911522.py:11: DtypeWarning: Columns (14) have mixed types. Specify dtype option on import or set low_memory=False.\n",
>>>>>>> 4e19ae3 (missing to unknown)
      "  df = pd.read_csv(\"data/train/cleaned_data.csv\")\n"
     ]
    },
    {
     "name": "stdout",
     "output_type": "stream",
     "text": [
      "Fitting 5 folds for each of 30 candidates, totalling 150 fits\n",
      "Best Hyperparameters: {'model__colsample_bytree': np.float64(0.9244569121330419), 'model__learning_rate': np.float64(0.22651885634946198), 'model__max_depth': 9, 'model__n_estimators': 191, 'model__reg_alpha': np.float64(0.49379559636439074), 'model__reg_lambda': np.float64(0.5227328293819941), 'model__subsample': np.float64(0.7137705091792748)}\n",
      "Results saved to models/optimized_results.csv\n"
     ]
    }
   ],
   "source": [
    "import pandas as pd\n",
    "import numpy as np\n",
    "from sklearn.model_selection import train_test_split, RandomizedSearchCV\n",
    "from sklearn.pipeline import Pipeline\n",
    "from xgboost import XGBRegressor\n",
    "from scipy.stats import uniform, randint\n",
    "from feature_hasher_transformer import FeatureHasherTransformer\n",
<<<<<<< HEAD
<<<<<<< HEAD
    "import joblib\n",
    "\n",
=======
    "from sklearn.pipeline import Pipeline\n",
    "from xgboost import XGBRegressor\n",
    "from feature_hasher_transformer import FeatureHasherTransformer\n",
    "import joblib\n",
    "\n",
    "\n",
>>>>>>> 462af2a (api v3)
=======
    "import joblib\n",
    "\n",
>>>>>>> 4e19ae3 (missing to unknown)
    "# 1) LOAD + PREPROCESS TRAIN DATA\n",
    "df = pd.read_csv(\"data/train/cleaned_data.csv\")\n",
    "\n",
    "# (a) Drop any row where material_price is missing or ≤ 0\n",
    "df = df.dropna(subset=['material_price'])\n",
    "df = df[df['material_price'] > 0]\n",
    "\n",
    "# (b) Fill missing text columns (including action)\n",
    "text_columns = [\n",
    "    'material_name',\n",
    "    'material_type',\n",
    "    'material_subtype',\n",
    "    'surgeon_name',\n",
    "    'surgeon_surname',\n",
    "    'procedure_name',\n",
    "    'surgeon_specific_action'  # assumed to exist\n",
    "]\n",
    "df[text_columns] = df[text_columns].fillna('missing').astype(str)\n",
    "\n",
    "# (c) Create combined “surgeon_fullname” and map 'missing missing' → 'unknown'\n",
    "df['surgeon_fullname'] = (\n",
    "    df['surgeon_name'].str.strip() + ' ' + df['surgeon_surname'].str.strip()\n",
    ")\n",
    "df.loc[df['surgeon_fullname'] == 'missing missing', 'surgeon_fullname'] = 'unknown'\n",
    "\n",
    "# (d) Normalize material_name to lowercase\n",
    "df['material_name'] = df['material_name'].str.lower()\n",
    "\n",
    "# (e) Combine text features for hashing\n",
    "df['combined_features'] = df[[\n",
    "    'material_name',\n",
    "    'material_type',\n",
    "    'material_subtype',\n",
    "    'surgeon_fullname',\n",
    "    'procedure_name'\n",
    "]].agg(' '.join, axis=1)\n",
    "\n",
    "# (f) Log-transform the target\n",
    "y_log = np.log(df['material_price'].values)\n",
    "\n",
    "\n",
<<<<<<< HEAD
<<<<<<< HEAD
    "# 2) BUILD LOOKUP: (material_name, surgeon_fullname) → (price, action)\n",
=======
    "# 2) BUILD LOOKUP: (material_name, surgeon_fullname) → (material_price, surgeon_specific_action)\n",
    "# Keep only the first unique (material_name, surgeon_fullname)––that row’s material_price + action\n",
>>>>>>> 462af2a (api v3)
=======
    "# 2) BUILD LOOKUP: (material_name, surgeon_fullname) → (price, action)\n",
>>>>>>> 4e19ae3 (missing to unknown)
    "lookup = (\n",
    "    df[['material_name', 'surgeon_fullname', 'material_price', 'surgeon_specific_action']]\n",
    "    .drop_duplicates(subset=['material_name', 'surgeon_fullname'], keep='first')\n",
    "    .rename(columns={\n",
    "        'surgeon_fullname':        'train_surgeon_fullname',\n",
    "        'material_price':          'train_material_price',\n",
    "        'surgeon_specific_action': 'train_surgeon_specific_action'\n",
    "    })\n",
    ")\n",
    "\n",
<<<<<<< HEAD
<<<<<<< HEAD
=======
>>>>>>> 4e19ae3 (missing to unknown)
    "\n",
    "# 3) TRAIN/VALIDATION SPLIT + HYPERPARAMETER SEARCH\n",
    "X_train, X_val, y_train, y_val = train_test_split(\n",
    "    df['combined_features'], y_log,\n",
    "    test_size=0.2, random_state=42\n",
<<<<<<< HEAD
=======
    "# 3) TRAIN/TEST SPLIT for the MODEL\n",
    "X_train_text, X_test_text, y_train_log, y_test_log = train_test_split(\n",
    "    df['combined_features'], \n",
    "    y_log, \n",
    "    test_size=0.2, \n",
    "    random_state=42\n",
>>>>>>> 462af2a (api v3)
=======
>>>>>>> 4e19ae3 (missing to unknown)
    ")\n",
    "\n",
    "pipeline = Pipeline([\n",
    "    ('hasher', FeatureHasherTransformer(n_features=100)),\n",
    "    ('model', XGBRegressor(\n",
    "        n_estimators=100,\n",
    "        max_depth=6,\n",
    "        learning_rate=0.1,\n",
    "        random_state=42\n",
    "    ))\n",
    "])\n",
    "\n",
    "param_distributions = {\n",
    "    'model__n_estimators':     randint(50, 300),\n",
    "    'model__max_depth':        randint(3, 10),\n",
    "    'model__learning_rate':    uniform(0.01, 0.3),\n",
    "    'model__subsample':        uniform(0.5, 0.5),\n",
    "    'model__colsample_bytree': uniform(0.5, 0.5),\n",
    "    'model__reg_alpha':        uniform(0, 1),\n",
    "    'model__reg_lambda':       uniform(0, 1),\n",
    "}\n",
    "\n",
    "search = RandomizedSearchCV(\n",
    "    pipeline,\n",
    "    param_distributions=param_distributions,\n",
    "    n_iter=30,\n",
    "    scoring='r2',\n",
    "    cv=5,\n",
    "    verbose=1,\n",
    "    random_state=42,\n",
    "    n_jobs=-1\n",
    ")\n",
    "search.fit(X_train, y_train)\n",
    "best_model = search.best_estimator_\n",
    "print(\"Best Hyperparameters:\", search.best_params_)\n",
    "\n",
    "\n",
<<<<<<< HEAD
    "# 4) OPTIMIZATION ON TEST SET + MERGE LOOKUP\n",
    "\n",
    "# (a) Historical min‐prices dict\n",
=======
    "\n",
    "# 4) OPTIMIZATION ON TEST SET + MERGE LOOKUP\n",
<<<<<<< HEAD
    "# (a) Build dict of material → min price (for get_cheapest_price)\n",
>>>>>>> 462af2a (api v3)
=======
    "\n",
    "# (a) Historical min‐prices dict\n",
>>>>>>> 4e19ae3 (missing to unknown)
    "historical_min_prices = df.groupby('material_name')['material_price'].min().to_dict()\n",
    "\n",
    "# (b) Load test data\n",
    "test = pd.read_csv('data/test/new_data.csv', low_memory=False)\n",
    "\n",
    "# (c) Fill missing text columns\n",
    "test[text_columns] = test[text_columns].fillna('missing').astype(str)\n",
    "\n",
    "# (d) Create combined “surgeon_fullname” & replace 'missing missing' → 'unknown'\n",
    "test['surgeon_fullname'] = (\n",
    "    test['surgeon_name'].str.strip() + ' ' + test['surgeon_surname'].str.strip()\n",
    ")\n",
    "test.loc[test['surgeon_fullname'] == 'missing missing', 'surgeon_fullname'] = 'unknown'\n",
    "\n",
    "# (e) Normalize material_name\n",
    "test['material_name'] = test['material_name'].str.lower()\n",
    "\n",
    "# (f) Build combined_features\n",
    "test['combined_features'] = test[[\n",
    "    'material_name',\n",
    "    'material_type',\n",
    "    'material_subtype',\n",
    "    'surgeon_fullname',\n",
    "    'procedure_name'\n",
    "]].agg(' '.join, axis=1)\n",
    "\n",
    "# (g) is_default flag\n",
    "test['is_default'] = (test['surgeon_name'] == 'Standardized').astype(int)\n",
    "\n",
    "# (h) Check for unseen materials\n",
    "missing_mats = set(test['material_name']) - set(historical_min_prices)\n",
    "if missing_mats:\n",
    "    raise ValueError(f\"Materials not in train set: {missing_mats}\")\n",
    "\n",
    "# (i) Map historical min‐price\n",
    "test['material_price'] = test['material_name'].map(historical_min_prices)\n",
    "\n",
    "# (j) Merge in train lookup\n",
    "test = test.merge(\n",
    "    lookup,\n",
    "    left_on=['material_name', 'surgeon_fullname'],\n",
    "    right_on=['material_name', 'train_surgeon_fullname'],\n",
    "    how='left'\n",
    ")\n",
    "\n",
    "# (k) Predict & back-transform\n",
    "log_preds = best_model.predict(test['combined_features'])\n",
    "test['predicted_price'] = np.exp(log_preds)\n",
    "\n",
    "# (l) Clip at overall train‐min\n",
    "min_price = df['material_price'].min()\n",
    "test['predicted_price'] = np.clip(test['predicted_price'], min_price, None)\n",
    "\n",
    "# (m) Fill in missing lookup values from historical fallback\n",
    "test['train_material_price'] = test['train_material_price'].fillna(test['material_price'])\n",
    "test['train_surgeon_specific_action'] = test['train_surgeon_specific_action'].fillna('unknown')\n",
    "test['train_surgeon_fullname'] = test['train_surgeon_fullname'].fillna(test['surgeon_fullname'])\n",
    "\n",
    "# Compute each procedure’s original total cost\n",
    "orig_costs = (\n",
    "    test\n",
    "    .groupby('procedure_id')['train_material_price']\n",
    "    .sum()\n",
    "    .rename('procedure_original_cost')\n",
    ")\n",
    "test = test.merge(orig_costs, on='procedure_id', how='left')\n",
    "\n",
    "# Helper: always return historical min price\n",
    "def get_cheapest_price(row):\n",
    "    return row['material_price'], 'historical'\n",
    "\n",
<<<<<<< HEAD
<<<<<<< HEAD
    "# (n) Build optimized‐results rows\n",
=======
    "# (n) Build final results\n",
>>>>>>> 462af2a (api v3)
=======
    "# (n) Build optimized‐results rows\n",
>>>>>>> 4e19ae3 (missing to unknown)
    "results = []\n",
    "for pid, group in test.groupby('procedure_id'):\n",
    "    defaults = set(group.loc[group['is_default'] == 1, 'material_name'])\n",
    "    added    = set(group.loc[\n",
    "        (group['is_default'] == 0) &\n",
    "        (group['surgeon_specific_action'] != 'default'),\n",
    "        'material_name'\n",
    "    ]) - defaults\n",
    "    mats = defaults.union(added)\n",
    "\n",
<<<<<<< HEAD
<<<<<<< HEAD
=======
>>>>>>> 4e19ae3 (missing to unknown)
    "    # optimized entries\n",
    "    for mat in mats:\n",
    "        row0 = group[group['material_name'] == mat].iloc[0]\n",
    "        hist_min, src = get_cheapest_price(row0)\n",
    "        results.append({\n",
    "            'material_id':              row0.get('material_id'),\n",
    "            'material_name':            mat,\n",
    "            'material_original_price':  row0['train_material_price'],\n",
    "            'material_optimized_price': hist_min,\n",
    "            'material_type':            row0.get('material_type'),\n",
    "            'material_subtype':         row0.get('material_subtype'),\n",
    "            'specialty':                row0.get('speciality'),\n",
    "            'procedure_id':             pid,\n",
    "            'procedure_name':           row0.get('procedure_name'),\n",
    "            'procedure_original_cost':  row0['procedure_original_cost'],\n",
    "            'procedure_optimized_cost': None,  # to fill below\n",
    "            'price_source':             src,\n",
    "            'surgeon_fullname':         row0['train_surgeon_fullname'],\n",
    "            'surgeon_specific_action':  row0['train_surgeon_specific_action']\n",
    "        })\n",
<<<<<<< HEAD
    "\n",
    "    # fill optimized cost for this procedure\n",
    "    proc_mask = [r['procedure_id'] == pid for r in results]\n",
    "    opt_cost = sum(r['material_optimized_price'] for r in results if r['procedure_id'] == pid)\n",
    "    for r in results:\n",
    "        if r['procedure_id'] == pid:\n",
    "            r['procedure_optimized_cost'] = opt_cost\n",
    "\n",
    "# Convert to DataFrame and save\n",
    "columns_order = [\n",
    "    'material_id', 'material_name',\n",
    "    'material_original_price', 'material_optimized_price',\n",
    "    'material_type', 'material_subtype', 'specialty',\n",
    "    'procedure_id', 'procedure_name',\n",
    "    'procedure_original_cost', 'procedure_optimized_cost',\n",
    "    'price_source', 'surgeon_fullname', 'surgeon_specific_action'\n",
    "]\n",
    "results_df = pd.DataFrame(results)[columns_order]\n",
    "results_df.to_csv('models/optimized_results.csv', index=False)\n",
    "\n",
    "# Save artifacts\n",
    "joblib.dump(lookup, 'models/lookup.joblib')\n",
    "joblib.dump(historical_min_prices, 'models/min_prices.joblib')\n",
    "joblib.dump(best_model, 'models/model_weights.joblib')\n",
    "\n",
    "print(\"Results saved to models/optimized_results.csv\")\n"
=======
    "    # Identify default and surgeon-added materials\n",
    "    default_data = proc_data[proc_data['is_default'] == 1]\n",
    "    default_materials = set(default_data['material_name'])\n",
    "    surgeon_data = proc_data[proc_data['is_default'] == 0]\n",
    "    surgeon_added = set(\n",
    "        surgeon_data[surgeon_data['surgeon_specific_action'] != 'default']['material_name']\n",
    "    ) - default_materials\n",
    "    all_materials = default_materials.union(surgeon_added)\n",
=======
>>>>>>> 4e19ae3 (missing to unknown)
    "\n",
    "    # fill optimized cost for this procedure\n",
    "    proc_mask = [r['procedure_id'] == pid for r in results]\n",
    "    opt_cost = sum(r['material_optimized_price'] for r in results if r['procedure_id'] == pid)\n",
    "    for r in results:\n",
    "        if r['procedure_id'] == pid:\n",
    "            r['procedure_optimized_cost'] = opt_cost\n",
    "\n",
    "# Convert to DataFrame and save\n",
    "columns_order = [\n",
    "    'material_id', 'material_name',\n",
    "    'material_original_price', 'material_optimized_price',\n",
    "    'material_type', 'material_subtype', 'specialty',\n",
    "    'procedure_id', 'procedure_name',\n",
    "    'procedure_original_cost', 'procedure_optimized_cost',\n",
    "    'price_source', 'surgeon_fullname', 'surgeon_specific_action'\n",
    "]\n",
    "results_df = pd.DataFrame(results)[columns_order]\n",
    "results_df.to_csv('models/optimized_results.csv', index=False)\n",
    "\n",
    "# Save artifacts\n",
    "joblib.dump(lookup, 'models/lookup.joblib')\n",
    "joblib.dump(historical_min_prices, 'models/min_prices.joblib')\n",
    "joblib.dump(best_model, 'models/model_weights.joblib')\n",
    "\n",
<<<<<<< HEAD
    "print('Results saved to models/optimized_results.csv')\n"
>>>>>>> 462af2a (api v3)
=======
    "print(\"Results saved to models/optimized_results.csv\")\n"
>>>>>>> 4e19ae3 (missing to unknown)
   ]
  }
 ],
 "metadata": {
  "kernelspec": {
   "display_name": ".venv",
   "language": "python",
   "name": "python3"
  },
  "language_info": {
   "codemirror_mode": {
    "name": "ipython",
    "version": 3
   },
   "file_extension": ".py",
   "mimetype": "text/x-python",
   "name": "python",
   "nbconvert_exporter": "python",
   "pygments_lexer": "ipython3",
   "version": "3.13.3"
  }
 },
 "nbformat": 4,
 "nbformat_minor": 5
}
