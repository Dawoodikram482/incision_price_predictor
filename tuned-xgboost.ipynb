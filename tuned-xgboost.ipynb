{
 "cells": [
  {
   "cell_type": "code",
   "execution_count": 3,
   "id": "3330fc8c-81a5-4627-adbc-6259481cd881",
   "metadata": {},
   "outputs": [
    {
     "name": "stderr",
     "output_type": "stream",
     "text": [
      "C:\\Users\\HP\\AppData\\Local\\Temp\\ipykernel_10696\\744459975.py:13: DtypeWarning: Columns (14) have mixed types. Specify dtype option on import or set low_memory=False.\n",
      "  df = pd.read_csv(\"data/train/cleaned_data.csv\")\n"
     ]
    },
    {
     "name": "stdout",
     "output_type": "stream",
     "text": [
      "Fitting 5 folds for each of 30 candidates, totalling 150 fits\n",
      "Best Hyperparameters: {'model__colsample_bytree': np.float64(0.9244569121330419), 'model__learning_rate': np.float64(0.22651885634946198), 'model__max_depth': 9, 'model__n_estimators': 191, 'model__reg_alpha': np.float64(0.49379559636439074), 'model__reg_lambda': np.float64(0.5227328293819941), 'model__subsample': np.float64(0.7137705091792748)}\n"
     ]
    }
   ],
   "source": [
    "import pandas as pd\n",
    "import numpy as np\n",
    "from sklearn.model_selection import train_test_split, cross_val_score, KFold\n",
    "from sklearn.pipeline import Pipeline\n",
    "from sklearn.metrics import r2_score, mean_squared_error, mean_absolute_error\n",
    "from xgboost import XGBRegressor\n",
    "from sklearn.model_selection import cross_val_score\n",
    "from feature_hasher_transformer import FeatureHasherTransformer\n",
    "\n",
    "\n",
    "\n",
    "# Load and preprocess data\n",
    "df = pd.read_csv(\"data/train/cleaned_data.csv\")\n",
    "\n",
    "# Drop rows with missing or invalid target\n",
    "df = df.dropna(subset=['material_price'])\n",
    "df = df[df['material_price'] > 0]\n",
    "\n",
    "# Fill missing text fields\n",
    "text_columns = ['material_name', 'material_type', 'material_subtype',\n",
    "                'surgeon_name', 'procedure_name']\n",
    "df[text_columns] = df[text_columns].fillna('missing').astype(str)\n",
    "\n",
    "# Combine categorical text fields\n",
    "df['combined_features'] = df[text_columns].agg(' '.join, axis=1)\n",
    "\n",
    "# Log-transform target\n",
    "y_log = np.log(df['material_price'].values)\n",
    "\n",
    "# Train/Test Split\n",
    "X_train_text, X_test_text, y_train_log, y_test_log = train_test_split(\n",
    "    df['combined_features'], y_log, test_size=0.2, random_state=42\n",
    ")\n",
    "\n",
    "\n",
    "# Build Pipeline\n",
    "pipeline = Pipeline([\n",
    "    ('hasher', FeatureHasherTransformer(n_features=100)),\n",
    "    ('model', XGBRegressor(n_estimators=100, max_depth=6,\n",
    "                           learning_rate=0.1, random_state=42))\n",
    "])\n",
    "\n",
    "from sklearn.model_selection import RandomizedSearchCV\n",
    "from scipy.stats import uniform, randint\n",
    "\n",
    "\n",
    "# Define hyperparameter space for XGBoost\n",
    "param_distributions = {\n",
    "    'model__n_estimators': randint(50, 300),\n",
    "    'model__max_depth': randint(3, 10),\n",
    "    'model__learning_rate': uniform(0.01, 0.3),\n",
    "    'model__subsample': uniform(0.5, 0.5),\n",
    "    'model__colsample_bytree': uniform(0.5, 0.5),\n",
    "    'model__reg_alpha': uniform(0, 1),\n",
    "    'model__reg_lambda': uniform(0, 1),\n",
    "}\n",
    "\n",
    "\n",
    "# Randomized Search\n",
    "random_search = RandomizedSearchCV(\n",
    "    pipeline,\n",
    "    param_distributions=param_distributions,\n",
    "    n_iter=30,\n",
    "    scoring='r2',\n",
    "    cv=5,\n",
    "    verbose=1,\n",
    "    random_state=42,\n",
    "    n_jobs=-1\n",
    ")\n",
    "\n",
    "# Fit randomized search\n",
    "random_search.fit(X_train_text, y_train_log)\n",
    "\n",
    "# Best model\n",
    "best_model = random_search.best_estimator_\n",
    "print(\"Best Hyperparameters:\", random_search.best_params_)\n",
    "\n",
    "\n",
    "# Final Evaluation\n",
    "y_pred_log = best_model.predict(X_test_text)\n",
    "y_pred = np.exp(y_pred_log)\n",
    "y_test = np.exp(y_test_log)\n"
   ]
  },
  {
   "cell_type": "code",
   "execution_count": 4,
   "id": "f4809067-bbdd-41e8-824e-94d9e0e697ac",
   "metadata": {},
   "outputs": [
    {
     "name": "stdout",
     "output_type": "stream",
     "text": [
      "\n",
      "Saved: xgboost_test_optimization_results.csv\n"
     ]
    }
   ],
   "source": [
    "# === Step: Optimization Using Test Dataset ===\n",
    "\n",
    "# Load the test dataset (same as Ridge workflow)\n",
    "test_data = pd.read_csv('data/test/new_data.csv', low_memory=False)\n",
    "\n",
    "# Preprocessing\n",
    "text_columns = ['material_name', 'material_type', 'material_subtype',\n",
    "                'surgeon_name', 'procedure_name']\n",
    "test_data[text_columns] = test_data[text_columns].fillna('missing').astype(str)\n",
    "test_data['combined_features'] = test_data[text_columns].agg(' '.join, axis=1)\n",
    "test_data['is_default'] = (test_data['surgeon_name'] == 'Standardized').astype(int)\n",
    "\n",
    "# Predict log prices and back-transform\n",
    "log_preds = best_model.predict(test_data['combined_features'])\n",
    "test_data['predicted_price'] = np.exp(log_preds)\n",
    "test_data['predicted_price'] = np.clip(test_data['predicted_price'], 0, None)\n",
    "\n",
    "\n",
    "\n",
    "# === Global minimum predicted price per material ===\n",
    "global_min_predicted = test_data.groupby('material_name')['predicted_price'].min().to_dict()\n",
    "\n",
    "# Use actual price if cheaper and available\n",
    "def get_cheapest_price(row):\n",
    "    predicted = global_min_predicted.get(row['material_name'], np.inf)\n",
    "    if not np.isnan(row.get('material_price', np.nan)):\n",
    "        return min(predicted, row['material_price'])\n",
    "    return predicted\n",
    "\n",
    "# Apply optimization\n",
    "results = []\n",
    "for proc_id in test_data['procedure_id'].unique():\n",
    "    proc_data = test_data[test_data['procedure_id'] == proc_id].copy()\n",
    "\n",
    "    default_data = proc_data[proc_data['is_default'] == 1]\n",
    "    default_materials = set(default_data['material_name'])\n",
    "\n",
    "    surgeon_data = proc_data[proc_data['is_default'] == 0]\n",
    "    surgeon_added = set(surgeon_data[surgeon_data['surgeon_specific_action'] != 'default']['material_name']) - default_materials\n",
    "    all_materials = default_materials.union(surgeon_added)\n",
    "\n",
    "    optimized_materials = {}\n",
    "    for mat in all_materials:\n",
    "        mat_rows = proc_data[proc_data['material_name'] == mat]\n",
    "        if not mat_rows.empty:\n",
    "            # Get the first row as representative to use actual price if present\n",
    "            cheapest_row = mat_rows.iloc[0]\n",
    "            cheapest_price = get_cheapest_price(cheapest_row)\n",
    "            optimized_materials[mat] = cheapest_price\n",
    "\n",
    "    optimized_cost = sum(optimized_materials.values())\n",
    "\n",
    "    for mat, price in optimized_materials.items():\n",
    "        results.append({\n",
    "            'procedure_id': proc_id,\n",
    "            'material_name': mat,\n",
    "            'optimized_price': price,\n",
    "            'optimized_cost': optimized_cost\n",
    "        })\n",
    "\n",
    "# Save results to CSV\n",
    "optimized_df = pd.DataFrame(results)\n",
    "optimized_df.to_csv(\"xgboost_test_optimization_results.csv\", index=False)\n",
    "print(\"\\nSaved: xgboost_test_optimization_results.csv\")\n"
   ]
  },
  {
   "cell_type": "code",
   "execution_count": 5,
   "id": "016060c8-8000-4967-bd64-cc4023b90cdc",
   "metadata": {},
   "outputs": [
    {
     "name": "stdout",
     "output_type": "stream",
     "text": [
      "=== Tuned Model Evaluation ===\n",
      "R² Score: 0.96\n",
      "MSE:      471.91\n",
      "MAE:      10.86\n",
      "Clipped Predictions: 0\n",
      "Tuned Model Cross-validated R²: 0.78 ± 0.04\n",
      "CSV file has been saved as 'predicted_vs_actual_prices.csv'.\n"
     ]
    }
   ],
   "source": [
    "\n",
    "# Clip predictions\n",
    "y_pred_clipped = np.clip(y_pred, 0, None)\n",
    "num_clipped = np.sum(y_pred < 0)\n",
    "\n",
    "# Metrics\n",
    "mse = mean_squared_error(y_test, y_pred_clipped)\n",
    "mae = mean_absolute_error(y_test, y_pred_clipped)\n",
    "r2 = r2_score(y_test, y_pred_clipped)\n",
    "#rmse = mean_squared_error(y_test, y_pred_clipped, squared=False)\n",
    "\n",
    "print(\"=== Tuned Model Evaluation ===\")\n",
    "print(f\"R² Score: {r2:.2f}\")\n",
    "#print(f\"RMSE:     {rmse:.2f}\")\n",
    "print(f\"MSE:      {mse:.2f}\")\n",
    "print(f\"MAE:      {mae:.2f}\")\n",
    "print(f\"Clipped Predictions: {num_clipped}\")\n",
    "\n",
    "\n",
    "# Cross-validation\n",
    "cv = KFold(n_splits=5, shuffle=True, random_state=42)\n",
    "cv_scores_tuned = cross_val_score(best_model, df['combined_features'], y_log, cv=5, scoring='r2')\n",
    "print(f\"Tuned Model Cross-validated R²: {np.mean(cv_scores_tuned):.2f} ± {np.std(cv_scores_tuned):.2f}\")\n",
    "\n",
    "# Save results\n",
    "results_df = pd.DataFrame({\n",
    "    'Actual Price': y_test,\n",
    "    'Predicted Price': y_pred_clipped\n",
    "})\n",
    "results_df.to_csv('predicted_vs_actual_prices.csv', index=False)\n",
    "print(\"CSV file has been saved as 'predicted_vs_actual_prices.csv'.\")\n"
   ]
  },
  {
   "cell_type": "code",
   "execution_count": 6,
   "id": "8c0f5911-f2e3-4c3f-8d92-d7a7bfce19c4",
   "metadata": {},
   "outputs": [
    {
     "data": {
      "text/plain": [
       "['models/model_weights.joblib']"
      ]
     },
     "execution_count": 6,
     "metadata": {},
     "output_type": "execute_result"
    }
   ],
   "source": [
    "import joblib\n",
    "\n",
    "\n",
    "joblib.dump({\n",
    "    'model':best_model\n",
    "}, 'models/model_weights.joblib')\n"
   ]
  }
 ],
 "metadata": {
  "kernelspec": {
   "display_name": ".venv",
   "language": "python",
   "name": "python3"
  },
  "language_info": {
   "codemirror_mode": {
    "name": "ipython",
    "version": 3
   },
   "file_extension": ".py",
   "mimetype": "text/x-python",
   "name": "python",
   "nbconvert_exporter": "python",
   "pygments_lexer": "ipython3",
   "version": "3.13.3"
  }
 },
 "nbformat": 4,
 "nbformat_minor": 5
}
